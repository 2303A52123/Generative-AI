{
  "nbformat": 4,
  "nbformat_minor": 0,
  "metadata": {
    "colab": {
      "provenance": [],
      "authorship_tag": "ABX9TyPievt+gGdOekNztPtMzZCZ",
      "include_colab_link": true
    },
    "kernelspec": {
      "name": "python3",
      "display_name": "Python 3"
    },
    "language_info": {
      "name": "python"
    }
  },
  "cells": [
    {
      "cell_type": "markdown",
      "metadata": {
        "id": "view-in-github",
        "colab_type": "text"
      },
      "source": [
        "<a href=\"https://colab.research.google.com/github/2303A52123/Generative-AI/blob/main/Gen_AI(A_3).ipynb\" target=\"_parent\"><img src=\"https://colab.research.google.com/assets/colab-badge.svg\" alt=\"Open In Colab\"/></a>"
      ]
    },
    {
      "cell_type": "code",
      "execution_count": 1,
      "metadata": {
        "colab": {
          "base_uri": "https://localhost:8080/"
        },
        "id": "OU9Ky0qgJkXn",
        "outputId": "896a3bd4-0e57-43cb-9dbf-561e69f43c29"
      },
      "outputs": [
        {
          "output_type": "stream",
          "name": "stdout",
          "text": [
            "The value of x at which f(x) is minimized is: 1.63586104206045e-05\n"
          ]
        }
      ],
      "source": [
        "#question 1\n",
        "def gradient_descent_f(initial_x, learning_rate, max_iterations, tolerance):\n",
        "    x = initial_x\n",
        "    for i in range(max_iterations):\n",
        "        # Derivative of f(x): df/dx = 20x^3 + 6x\n",
        "        gradient = 20 * x**3 + 6 * x\n",
        "        next_x = x - learning_rate * gradient\n",
        "        if abs(next_x - x) < tolerance:\n",
        "            break\n",
        "        x = next_x\n",
        "    return x\n",
        "\n",
        "# Parameters\n",
        "initial_x = 0.0\n",
        "learning_rate = 0.1\n",
        "max_iterations = 1000\n",
        "tolerance = 1e-6\n",
        "\n",
        "min_x = gradient_descent_f(initial_x, learning_rate, max_iterations, tolerance)\n",
        "print(f\"The value of x at which f(x) is minimized is: {min_x}\")"
      ]
    },
    {
      "cell_type": "code",
      "source": [
        "#question 2\n",
        "def gradient_descent_g(initial_x, initial_y, learning_rate, max_iterations, tolerance):\n",
        "    x, y = initial_x, initial_y\n",
        "    for i in range(max_iterations):\n",
        "        # Partial derivatives:\n",
        "        # dg/dx = 6x\n",
        "        # dg/dy = -5e^(-y)\n",
        "        gradient_x = 6 * x\n",
        "        gradient_y = -5 * pow(2.718, -y)\n",
        "\n",
        "        next_x = x - learning_rate * gradient_x\n",
        "        next_y = y - learning_rate * gradient_y\n",
        "\n",
        "        if abs(next_x - x) < tolerance and abs(next_y - y) < tolerance:\n",
        "            break\n",
        "\n",
        "        x, y = next_x, next_y\n",
        "    return x, y\n",
        "\n",
        "# Parameters\n",
        "initial_x = 0.0\n",
        "initial_y = 0.0\n",
        "learning_rate = 0.1\n",
        "max_iterations = 1000\n",
        "tolerance = 1e-6\n",
        "\n",
        "min_x, min_y = gradient_descent_g(initial_x, initial_y, learning_rate, max_iterations, tolerance)\n",
        "print(f\"The value of x and y at which g(x, y) is minimized are: x = {min_x}, y = {min_y}\")"
      ],
      "metadata": {
        "colab": {
          "base_uri": "https://localhost:8080/"
        },
        "id": "WCf1JUddK9fk",
        "outputId": "ebde5f60-597b-449d-ea9c-f63661dabd12"
      },
      "execution_count": 2,
      "outputs": [
        {
          "output_type": "stream",
          "name": "stdout",
          "text": [
            "The value of x and y at which g(x, y) is minimized are: x = 1.8990482403275175e-269, y = 6.220831124790187\n"
          ]
        }
      ]
    },
    {
      "cell_type": "code",
      "source": [
        "#question 3\n",
        "def sigmoid_derivative(x):\n",
        "    sig = 1 / (1 + 2.71828**(-x))\n",
        "    return sig * (1 - sig)\n",
        "\n",
        "# Calculate minimum x for sigmoid function using gradient descent\n",
        "min_x_sigmoid = gradient_descent_f(0.0, 0.1, 1000, 1e-6)\n",
        "\n",
        "print(f\"Minimum value of x for sigmoid function: {min_x_sigmoid}\")"
      ],
      "metadata": {
        "colab": {
          "base_uri": "https://localhost:8080/"
        },
        "id": "b32eNM6gNwqf",
        "outputId": "9148eac9-4942-4277-d434-d69f47f86471"
      },
      "execution_count": 6,
      "outputs": [
        {
          "output_type": "stream",
          "name": "stdout",
          "text": [
            "Minimum value of x for sigmoid function: 0.0\n"
          ]
        }
      ]
    },
    {
      "cell_type": "code",
      "source": [
        "#question 4\n",
        "def gradient_descent_linear(f_prime_m, f_prime_c, m0, c0, learning_rate=0.1, tolerance=1e-6, max_iter=1000):\n",
        "    m, c = m0, c0\n",
        "    for i in range(max_iter):\n",
        "        grad_m = f_prime_m(m, c)\n",
        "        grad_c = f_prime_c(m, c)\n",
        "        new_m = m - learning_rate * grad_m\n",
        "        new_c = c - learning_rate * grad_c\n",
        "        if abs(new_m - m) < tolerance and abs(new_c - c) < tolerance:\n",
        "            break\n",
        "        m, c = new_m, new_c\n",
        "    return m, c\n",
        "\n",
        "# Derivatives of SE = (ExpectedOutput - (Mx + C))^2\n",
        "# Assuming simple linear regression y = Mx + C, and we have some data points (x, y)\n",
        "\n",
        "def f_prime_m(m, c):\n",
        "    # Example with a single data point (x, y) = (1, 2)\n",
        "    x, y = 1, 2\n",
        "    return -2 * x * (y - (m * x + c))\n",
        "\n",
        "def f_prime_c(m, c):\n",
        "    x, y = 1, 2\n",
        "    return -2 * (y - (m * x + c))\n",
        "\n",
        "# Initial guess\n",
        "m0, c0 = 0.0, 0.0\n",
        "min_m, min_c = gradient_descent_linear(f_prime_m, f_prime_c, m0, c0)\n",
        "print(f\"Optimal values of M and C: {min_m}, {min_c}\")\n"
      ],
      "metadata": {
        "colab": {
          "base_uri": "https://localhost:8080/"
        },
        "id": "O3ga-uMmW1eP",
        "outputId": "a1f90f55-2edc-435f-ba3d-5c0aa922c874"
      },
      "execution_count": 7,
      "outputs": [
        {
          "output_type": "stream",
          "name": "stdout",
          "text": [
            "Optimal values of M and C: 0.9999982941827182, 0.9999982941827182\n"
          ]
        }
      ]
    }
  ]
}