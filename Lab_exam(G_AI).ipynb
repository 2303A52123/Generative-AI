{
  "nbformat": 4,
  "nbformat_minor": 0,
  "metadata": {
    "colab": {
      "provenance": [],
      "authorship_tag": "ABX9TyNGvsKd9Lr5OrueKpMCOOuA",
      "include_colab_link": true
    },
    "kernelspec": {
      "name": "python3",
      "display_name": "Python 3"
    },
    "language_info": {
      "name": "python"
    }
  },
  "cells": [
    {
      "cell_type": "markdown",
      "metadata": {
        "id": "view-in-github",
        "colab_type": "text"
      },
      "source": [
        "<a href=\"https://colab.research.google.com/github/2303A52123/Generative-AI/blob/main/Lab_exam(G_AI).ipynb\" target=\"_parent\"><img src=\"https://colab.research.google.com/assets/colab-badge.svg\" alt=\"Open In Colab\"/></a>"
      ]
    },
    {
      "cell_type": "code",
      "execution_count": 1,
      "metadata": {
        "colab": {
          "base_uri": "https://localhost:8080/"
        },
        "id": "XelDJakfZZr7",
        "outputId": "4cb35d6f-5d64-4f45-b06d-80be15c65abd"
      },
      "outputs": [
        {
          "output_type": "stream",
          "name": "stdout",
          "text": [
            "Enter x1: 0.1\n",
            "Enter x2: 0.2\n",
            "Enter x3: 0.3\n",
            "Predicted output: 0.15676510904542018\n"
          ]
        }
      ],
      "source": [
        "import numpy as np\n",
        "def sigmoid(x):\n",
        "    return 1 / (1 + np.exp(-x))\n",
        "\n",
        "def sigmoid_derivative(x):\n",
        "    return x * (1 - x)\n",
        "X = np.array([[0.1, 0.2, 0.3],\n",
        "              [0.2, 0.3, 0.4],\n",
        "              [0.3, 0.4, 0.5],\n",
        "              [0.5, 0.6, 0.7],\n",
        "              [0.1, 0.3, 0.5],\n",
        "              [0.2, 0.4, 0.6],\n",
        "              [0.3, 0.5, 0.7],\n",
        "              [0.4, 0.6, 0.8],\n",
        "              [0.5, 0.7, 0.1]])\n",
        "\n",
        "y = np.array([[0.14],\n",
        "              [0.20],\n",
        "              [0.26],\n",
        "              [0.38],\n",
        "              [0.22],\n",
        "              [0.28],\n",
        "              [0.34],\n",
        "              [0.40],\n",
        "              [0.22]])\n",
        "np.random.seed(0)\n",
        "weights = 2 * np.random.random((3, 1)) - 1\n",
        "bias = np.random.random((1, 1))\n",
        "learning_rate = 0.1\n",
        "epochs = 10000\n",
        "for epoch in range(epochs):\n",
        "    input_layer = X\n",
        "    hidden_layer_output = sigmoid(np.dot(input_layer, weights) + bias)\n",
        "    error = y - hidden_layer_output\n",
        "    delta = error * sigmoid_derivative(hidden_layer_output)\n",
        "    weights += np.dot(input_layer.T, delta) * learning_rate\n",
        "    bias += np.sum(delta) * learning_rate\n",
        "def predict(x1, x2, x3):\n",
        "    input_data = np.array([[x1, x2, x3]])\n",
        "    output = sigmoid(np.dot(input_data, weights) + bias)\n",
        "    return output\n",
        "x1 = float(input(\"Enter x1: \"))\n",
        "x2 = float(input(\"Enter x2: \"))\n",
        "x3 = float(input(\"Enter x3: \"))\n",
        "prediction = predict(x1, x2, x3)\n",
        "print(\"Predicted output:\", prediction[0][0])"
      ]
    }
  ]
}